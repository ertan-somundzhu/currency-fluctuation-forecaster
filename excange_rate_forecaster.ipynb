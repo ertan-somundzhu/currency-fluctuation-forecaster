{
 "cells": [
  {
   "cell_type": "code",
   "execution_count": 1,
   "id": "21489de1-dc1f-4923-a7fc-792ca3eff7a8",
   "metadata": {},
   "outputs": [],
   "source": [
    "import pandas as pd\n",
    "import matplotlib.pyplot as plt\n",
    "import joblib\n",
    "\n",
    "import sklearn\n",
    "from sklearn.ensemble import GradientBoostingRegressor\n",
    "from sklearn.metrics import mean_squared_error\n",
    "\n",
    "import skforecast\n",
    "from skforecast.ForecasterAutoreg import ForecasterAutoreg\n",
    "from skforecast.utils import load_forecaster"
   ]
  },
  {
   "cell_type": "code",
   "execution_count": 2,
   "id": "2afb24d9-5866-4f55-a0e5-826c1d56d2eb",
   "metadata": {},
   "outputs": [],
   "source": [
    "currency_df = pd.read_excel(\"exchange_hisroty_cbr.xlsx\")"
   ]
  },
  {
   "cell_type": "code",
   "execution_count": 3,
   "id": "80391b59-0b54-4344-970d-67c3f237edd9",
   "metadata": {},
   "outputs": [
    {
     "name": "stdout",
     "output_type": "stream",
     "text": [
      "{'KRW', 'TRY', 'UZS', 'RSD', 'EUR', 'BEF', 'AUD', 'NLG', 'INR', 'NZD', 'ITL', 'GBP', 'BRL', 'HUF', 'IEP', 'FRF', 'BYR', 'ESP', 'BYN', 'IDR', 'SEK', 'TRL', 'MDL', 'PLN', 'CAD', 'ISK', 'PTE', 'CNY', 'XEU', 'BYB', 'KGS', 'NOK', 'JPY', 'LVL', 'AED', 'RON', 'EEK', 'LTL', 'GEL', 'BGN', 'CZK', 'QAR', 'KZT', 'HKD', 'UAH', 'GRD', 'TMT', 'THB', 'AMD', 'ATS', 'ZAR', 'DEM', 'SGD', 'VND', 'EGP', 'AZN', 'XDR', 'TJS', 'FIM', 'CHF', 'USD', 'DKK'}\n"
     ]
    }
   ],
   "source": [
    "print(set(currency_df[\"Букв. код\"].to_list()))"
   ]
  },
  {
   "cell_type": "code",
   "execution_count": 4,
   "id": "86669401-a408-4629-8dd5-af8b83e9e4de",
   "metadata": {},
   "outputs": [],
   "source": [
    "data = currency_df[currency_df[\"Букв. код\"] == \"BRL\"].reset_index()"
   ]
  },
  {
   "cell_type": "code",
   "execution_count": 5,
   "id": "43e47011-53f4-4aef-a437-9ba8b366342b",
   "metadata": {},
   "outputs": [],
   "source": [
    "data = data[[\"Курс\", \"Дата\"]]\n",
    "data = data.rename(columns={\"Курс\": \"rate\", \"Дата\": \"date\"})\n",
    "data[\"date\"] = pd.to_datetime(data[\"date\"], format=\"%d.%m.%Y\")\n",
    "data = data.set_index(\"date\").asfreq(\"D\").sort_index()"
   ]
  },
  {
   "cell_type": "code",
   "execution_count": 6,
   "id": "86789482-ef37-476c-92d7-980615f20adb",
   "metadata": {},
   "outputs": [
    {
     "data": {
      "text/html": [
       "<div>\n",
       "<style scoped>\n",
       "    .dataframe tbody tr th:only-of-type {\n",
       "        vertical-align: middle;\n",
       "    }\n",
       "\n",
       "    .dataframe tbody tr th {\n",
       "        vertical-align: top;\n",
       "    }\n",
       "\n",
       "    .dataframe thead th {\n",
       "        text-align: right;\n",
       "    }\n",
       "</style>\n",
       "<table border=\"1\" class=\"dataframe\">\n",
       "  <thead>\n",
       "    <tr style=\"text-align: right;\">\n",
       "      <th></th>\n",
       "      <th>rate</th>\n",
       "    </tr>\n",
       "    <tr>\n",
       "      <th>date</th>\n",
       "      <th></th>\n",
       "    </tr>\n",
       "  </thead>\n",
       "  <tbody>\n",
       "    <tr>\n",
       "      <th>2010-01-12</th>\n",
       "      <td>17.0451</td>\n",
       "    </tr>\n",
       "    <tr>\n",
       "      <th>2010-01-13</th>\n",
       "      <td>16.9127</td>\n",
       "    </tr>\n",
       "    <tr>\n",
       "      <th>2010-01-14</th>\n",
       "      <td>16.9774</td>\n",
       "    </tr>\n",
       "    <tr>\n",
       "      <th>2010-01-15</th>\n",
       "      <td>16.7406</td>\n",
       "    </tr>\n",
       "    <tr>\n",
       "      <th>2010-01-16</th>\n",
       "      <td>16.8100</td>\n",
       "    </tr>\n",
       "    <tr>\n",
       "      <th>...</th>\n",
       "      <td>...</td>\n",
       "    </tr>\n",
       "    <tr>\n",
       "      <th>2024-07-12</th>\n",
       "      <td>16.3049</td>\n",
       "    </tr>\n",
       "    <tr>\n",
       "      <th>2024-07-13</th>\n",
       "      <td>16.2195</td>\n",
       "    </tr>\n",
       "    <tr>\n",
       "      <th>2024-07-14</th>\n",
       "      <td>16.2195</td>\n",
       "    </tr>\n",
       "    <tr>\n",
       "      <th>2024-07-15</th>\n",
       "      <td>16.2195</td>\n",
       "    </tr>\n",
       "    <tr>\n",
       "      <th>2024-07-16</th>\n",
       "      <td>16.1038</td>\n",
       "    </tr>\n",
       "  </tbody>\n",
       "</table>\n",
       "<p>5300 rows × 1 columns</p>\n",
       "</div>"
      ],
      "text/plain": [
       "               rate\n",
       "date               \n",
       "2010-01-12  17.0451\n",
       "2010-01-13  16.9127\n",
       "2010-01-14  16.9774\n",
       "2010-01-15  16.7406\n",
       "2010-01-16  16.8100\n",
       "...             ...\n",
       "2024-07-12  16.3049\n",
       "2024-07-13  16.2195\n",
       "2024-07-14  16.2195\n",
       "2024-07-15  16.2195\n",
       "2024-07-16  16.1038\n",
       "\n",
       "[5300 rows x 1 columns]"
      ]
     },
     "execution_count": 6,
     "metadata": {},
     "output_type": "execute_result"
    }
   ],
   "source": [
    "data"
   ]
  },
  {
   "cell_type": "code",
   "execution_count": 7,
   "id": "86c1db0f-0889-4921-bcf7-df9f11be70ed",
   "metadata": {},
   "outputs": [],
   "source": [
    "complete_date_range = pd.date_range(start=data.index.min(), end=data.index.max(), freq=data.index.freq)\n",
    "is_index_complete = (data.index == complete_date_range).all()"
   ]
  },
  {
   "cell_type": "code",
   "execution_count": 8,
   "id": "5fa80966-1b7c-4e02-948d-46e2efb189aa",
   "metadata": {},
   "outputs": [
    {
     "data": {
      "image/png": "[encoded data removed]",
      "text/plain": [
       "<Figure size 600x250 with 1 Axes>"
      ]
     },
     "metadata": {},
     "output_type": "display_data"
    }
   ],
   "source": [
    "steps = 4500\n",
    "data_train = data[:steps]\n",
    "data_test  = data[steps:]\n",
    "\n",
    "fig, ax = plt.subplots(figsize=(6, 2.5))\n",
    "data_train[\"rate\"].plot(ax=ax, label=\"train\")\n",
    "data_test[\"rate\"].plot(ax=ax, label=\"test\")\n",
    "ax.legend();"
   ]
  },
  {
   "cell_type": "code",
   "execution_count": 71,
   "id": "e11d8b01-f24a-4b6a-9c20-d4641ca61106",
   "metadata": {},
   "outputs": [
    {
     "data": {
      "text/plain": [
       "================= \n",
       "ForecasterAutoreg \n",
       "================= \n",
       "Regressor: GradientBoostingRegressor(ccp_alpha=0, criterion='squared_error',\n",
       "                          learning_rate=0.19, max_features=0.5,\n",
       "                          min_impurity_decrease=1e-06,\n",
       "                          min_weight_fraction_leaf=0, random_state=42,\n",
       "                          subsample=1, warm_start=True) \n",
       "Lags: [   1    2    3 ... 2998 2999 3000] \n",
       "Transformer for y: None \n",
       "Transformer for exog: None \n",
       "Window size: 3000 \n",
       "Weight function included: False \n",
       "Differentiation order: None \n",
       "Exogenous included: False \n",
       "Exogenous variables names: None \n",
       "Training range: [Timestamp('2010-01-12 00:00:00'), Timestamp('2022-05-08 00:00:00')] \n",
       "Training index type: DatetimeIndex \n",
       "Training index frequency: D \n",
       "Regressor parameters: {'alpha': 0.9, 'ccp_alpha': 0, 'criterion': 'squared_error', 'init': None, 'learning_rate': 0.19, 'loss': 'squared_error', 'max_depth': 3, 'max_features': 0.5, 'max_leaf_nodes': None, 'min_impurity_decrease': 1e-06, 'min_samples_leaf': 1, 'min_samples_split': 2, 'min_weight_fraction_leaf': 0, 'n_estimators': 100, 'n_iter_no_change': None, 'random_state': 42, 'subsample': 1, 'tol': 0.0001, 'validation_fraction': 0.1, 'verbose': 0, 'warm_start': True} \n",
       "fit_kwargs: {} \n",
       "Creation date: 2024-09-02 13:28:18 \n",
       "Last fit date: 2024-09-02 13:29:27 \n",
       "Skforecast version: 0.13.0 \n",
       "Python version: 3.12.0 \n",
       "Forecaster id: None "
      ]
     },
     "execution_count": 71,
     "metadata": {},
     "output_type": "execute_result"
    }
   ],
   "source": [
    "forecaster = ForecasterAutoreg(\n",
    "                 regressor = GradientBoostingRegressor(\n",
    "                    loss = 'squared_error', \n",
    "                    learning_rate = 0.19, \n",
    "                    n_estimators = 100, \n",
    "                    subsample = 1, \n",
    "                    criterion = 'squared_error', \n",
    "                    min_samples_split = 2, \n",
    "                    min_samples_leaf = 1, \n",
    "                    min_weight_fraction_leaf = 0, \n",
    "                    max_depth = 3, \n",
    "                    min_impurity_decrease = 0.000001, \n",
    "                    random_state = 42, \n",
    "                    max_features = 0.5, \n",
    "                    verbose = 0, \n",
    "                    max_leaf_nodes = None, \n",
    "                    warm_start = True, \n",
    "                    n_iter_no_change = None,  \n",
    "                    ccp_alpha = 0\n",
    "                     \n",
    "                 ),\n",
    "                 lags = 3000\n",
    "             )\n",
    "forecaster.fit(y=data_train[\"rate\"])\n",
    "forecaster"
   ]
  },
  {
   "cell_type": "code",
   "execution_count": 72,
   "id": "4b644516-d5f7-4e37-8390-d6f0549eceb4",
   "metadata": {},
   "outputs": [],
   "source": [
    "predictions = forecaster.predict(steps=len(data) - steps)"
   ]
  },
  {
   "cell_type": "code",
   "execution_count": 73,
   "id": "1480bc27-109c-4cc4-8216-31ee46488d2e",
   "metadata": {},
   "outputs": [
    {
     "data": {
      "image/png": "[encoded data removed]",
      "text/plain": [
       "<Figure size 600x250 with 1 Axes>"
      ]
     },
     "metadata": {},
     "output_type": "display_data"
    }
   ],
   "source": [
    "fig, ax = plt.subplots(figsize=(6, 2.5))\n",
    "data_train[\"rate\"].plot(ax=ax, label=\"train\")\n",
    "data_test[\"rate\"].plot(ax=ax, label=\"test\")\n",
    "predictions.plot(ax=ax, label=\"predictions\")\n",
    "ax.legend();"
   ]
  },
  {
   "cell_type": "code",
   "execution_count": 74,
   "id": "4a4244d8-65fc-49d2-a5b9-01818c2dfc07",
   "metadata": {},
   "outputs": [
    {
     "name": "stdout",
     "output_type": "stream",
     "text": [
      "18.50361080042734\n"
     ]
    }
   ],
   "source": [
    "print(mean_squared_error(data_test[\"rate\"],predictions))"
   ]
  },
  {
   "cell_type": "code",
   "execution_count": 75,
   "id": "acace5c4-30cd-4a9b-aa7e-50ce9c6cc793",
   "metadata": {},
   "outputs": [
    {
     "data": {
      "text/plain": [
       "['BRL_fluctuation_forecaster.sav']"
      ]
     },
     "execution_count": 75,
     "metadata": {},
     "output_type": "execute_result"
    }
   ],
   "source": [
    "joblib.dump(forecaster, \"BRL_fluctuation_forecaster.sav\")"
   ]
  }
 ],
 "metadata": {
  "kernelspec": {
   "display_name": "Python 3 (ipykernel)",
   "language": "python",
   "name": "python3"
  },
  "language_info": {
   "codemirror_mode": {
    "name": "ipython",
    "version": 3
   },
   "file_extension": ".py",
   "mimetype": "text/x-python",
   "name": "python",
   "nbconvert_exporter": "python",
   "pygments_lexer": "ipython3",
   "version": "3.12.0"
  }
 },
 "nbformat": 4,
 "nbformat_minor": 5
}
