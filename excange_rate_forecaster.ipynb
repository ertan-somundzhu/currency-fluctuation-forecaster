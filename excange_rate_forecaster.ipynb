{
 "cells": [
  {
   "cell_type": "code",
   "execution_count": 210,
   "id": "21489de1-dc1f-4923-a7fc-792ca3eff7a8",
   "metadata": {},
   "outputs": [],
   "source": [
    "import pandas as pd\n",
    "import matplotlib.pyplot as plt\n",
    "import joblib\n",
    "\n",
    "import sklearn\n",
    "from sklearn.ensemble import GradientBoostingRegressor\n",
    "from sklearn.metrics import mean_squared_error\n",
    "\n",
    "import skforecast\n",
    "from skforecast.ForecasterAutoreg import ForecasterAutoreg\n",
    "from skforecast.utils import load_forecaster"
   ]
  },
  {
   "cell_type": "code",
   "execution_count": 2,
   "id": "2afb24d9-5866-4f55-a0e5-826c1d56d2eb",
   "metadata": {},
   "outputs": [],
   "source": [
    "currency_df = pd.read_excel(\"exchange_hisroty_cbr.xlsx\")"
   ]
  },
  {
   "cell_type": "code",
   "execution_count": 214,
   "id": "80391b59-0b54-4344-970d-67c3f237edd9",
   "metadata": {},
   "outputs": [
    {
     "name": "stdout",
     "output_type": "stream",
     "text": [
      "{'NOK', 'LVL', 'AUD', 'JPY', 'LTL', 'UAH', 'EGP', 'ESP', 'BYR', 'AZN', 'GEL', 'SGD', 'PLN', 'IEP', 'EEK', 'ITL', 'PTE', 'USD', 'EUR', 'TRY', 'BRL', 'ISK', 'RSD', 'TRL', 'IDR', 'CZK', 'KZT', 'BEF', 'ZAR', 'KRW', 'NLG', 'XEU', 'BYB', 'MDL', 'TJS', 'GRD', 'SEK', 'BGN', 'AMD', 'CNY', 'VND', 'KGS', 'NZD', 'BYN', 'GBP', 'QAR', 'ATS', 'CAD', 'HKD', 'INR', 'RON', 'FRF', 'AED', 'DEM', 'CHF', 'HUF', 'THB', 'FIM', 'UZS', 'XDR', 'TMT', 'DKK'}\n"
     ]
    }
   ],
   "source": [
    "print(set(currency_df[\"Букв. код\"].to_list()))"
   ]
  },
  {
   "cell_type": "code",
   "execution_count": 215,
   "id": "86669401-a408-4629-8dd5-af8b83e9e4de",
   "metadata": {},
   "outputs": [],
   "source": [
    "data = currency_df[currency_df[\"Букв. код\"] == \"BRL\"].reset_index()"
   ]
  },
  {
   "cell_type": "code",
   "execution_count": 216,
   "id": "43e47011-53f4-4aef-a437-9ba8b366342b",
   "metadata": {},
   "outputs": [],
   "source": [
    "data = data[[\"Курс\", \"Дата\"]]\n",
    "data = data.rename(columns={\"Курс\": \"rate\", \"Дата\": \"date\"})\n",
    "data[\"date\"] = pd.to_datetime(data[\"date\"], format=\"%d.%m.%Y\")\n",
    "data = data.set_index(\"date\").asfreq(\"D\").sort_index()"
   ]
  },
  {
   "cell_type": "code",
   "execution_count": 217,
   "id": "86789482-ef37-476c-92d7-980615f20adb",
   "metadata": {},
   "outputs": [
    {
     "data": {
      "text/html": [
       "<div>\n",
       "<style scoped>\n",
       "    .dataframe tbody tr th:only-of-type {\n",
       "        vertical-align: middle;\n",
       "    }\n",
       "\n",
       "    .dataframe tbody tr th {\n",
       "        vertical-align: top;\n",
       "    }\n",
       "\n",
       "    .dataframe thead th {\n",
       "        text-align: right;\n",
       "    }\n",
       "</style>\n",
       "<table border=\"1\" class=\"dataframe\">\n",
       "  <thead>\n",
       "    <tr style=\"text-align: right;\">\n",
       "      <th></th>\n",
       "      <th>rate</th>\n",
       "    </tr>\n",
       "    <tr>\n",
       "      <th>date</th>\n",
       "      <th></th>\n",
       "    </tr>\n",
       "  </thead>\n",
       "  <tbody>\n",
       "    <tr>\n",
       "      <th>2010-01-12</th>\n",
       "      <td>17.0451</td>\n",
       "    </tr>\n",
       "    <tr>\n",
       "      <th>2010-01-13</th>\n",
       "      <td>16.9127</td>\n",
       "    </tr>\n",
       "    <tr>\n",
       "      <th>2010-01-14</th>\n",
       "      <td>16.9774</td>\n",
       "    </tr>\n",
       "    <tr>\n",
       "      <th>2010-01-15</th>\n",
       "      <td>16.7406</td>\n",
       "    </tr>\n",
       "    <tr>\n",
       "      <th>2010-01-16</th>\n",
       "      <td>16.8100</td>\n",
       "    </tr>\n",
       "    <tr>\n",
       "      <th>...</th>\n",
       "      <td>...</td>\n",
       "    </tr>\n",
       "    <tr>\n",
       "      <th>2024-07-12</th>\n",
       "      <td>16.3049</td>\n",
       "    </tr>\n",
       "    <tr>\n",
       "      <th>2024-07-13</th>\n",
       "      <td>16.2195</td>\n",
       "    </tr>\n",
       "    <tr>\n",
       "      <th>2024-07-14</th>\n",
       "      <td>16.2195</td>\n",
       "    </tr>\n",
       "    <tr>\n",
       "      <th>2024-07-15</th>\n",
       "      <td>16.2195</td>\n",
       "    </tr>\n",
       "    <tr>\n",
       "      <th>2024-07-16</th>\n",
       "      <td>16.1038</td>\n",
       "    </tr>\n",
       "  </tbody>\n",
       "</table>\n",
       "<p>5300 rows × 1 columns</p>\n",
       "</div>"
      ],
      "text/plain": [
       "               rate\n",
       "date               \n",
       "2010-01-12  17.0451\n",
       "2010-01-13  16.9127\n",
       "2010-01-14  16.9774\n",
       "2010-01-15  16.7406\n",
       "2010-01-16  16.8100\n",
       "...             ...\n",
       "2024-07-12  16.3049\n",
       "2024-07-13  16.2195\n",
       "2024-07-14  16.2195\n",
       "2024-07-15  16.2195\n",
       "2024-07-16  16.1038\n",
       "\n",
       "[5300 rows x 1 columns]"
      ]
     },
     "execution_count": 217,
     "metadata": {},
     "output_type": "execute_result"
    }
   ],
   "source": [
    "data"
   ]
  },
  {
   "cell_type": "code",
   "execution_count": 218,
   "id": "86c1db0f-0889-4921-bcf7-df9f11be70ed",
   "metadata": {},
   "outputs": [],
   "source": [
    "complete_date_range = pd.date_range(start=data.index.min(), end=data.index.max(), freq=data.index.freq)\n",
    "is_index_complete = (data.index == complete_date_range).all()"
   ]
  },
  {
   "cell_type": "code",
   "execution_count": 219,
   "id": "5fa80966-1b7c-4e02-948d-46e2efb189aa",
   "metadata": {},
   "outputs": [
    {
     "data": {
      "image/png": "[encoded data removed]",
      "text/plain": [
       "<Figure size 600x250 with 1 Axes>"
      ]
     },
     "metadata": {},
     "output_type": "display_data"
    }
   ],
   "source": [
    "steps = 4500\n",
    "data_train = data[:steps]\n",
    "data_test  = data[steps:]\n",
    "\n",
    "fig, ax = plt.subplots(figsize=(6, 2.5))\n",
    "data_train[\"rate\"].plot(ax=ax, label=\"train\")\n",
    "data_test[\"rate\"].plot(ax=ax, label=\"test\")\n",
    "ax.legend();"
   ]
  },
  {
   "cell_type": "code",
   "execution_count": 220,
   "id": "e11d8b01-f24a-4b6a-9c20-d4641ca61106",
   "metadata": {},
   "outputs": [
    {
     "data": {
      "text/plain": [
       "================= \n",
       "ForecasterAutoreg \n",
       "================= \n",
       "Regressor: GradientBoostingRegressor(ccp_alpha=0, criterion='squared_error',\n",
       "                          learning_rate=0.19, max_features=0.5,\n",
       "                          min_impurity_decrease=1e-06,\n",
       "                          min_weight_fraction_leaf=0, random_state=42,\n",
       "                          subsample=1, warm_start=True) \n",
       "Lags: [  1   2   3   4   5   6   7   8   9  10  11  12  13  14  15  16  17  18\n",
       "  19  20  21  22  23  24  25  26  27  28  29  30  31  32  33  34  35  36\n",
       "  37  38  39  40  41  42  43  44  45  46  47  48  49  50  51  52  53  54\n",
       "  55  56  57  58  59  60  61  62  63  64  65  66  67  68  69  70  71  72\n",
       "  73  74  75  76  77  78  79  80  81  82  83  84  85  86  87  88  89  90\n",
       "  91  92  93  94  95  96  97  98  99 100 101 102 103 104 105 106 107 108\n",
       " 109 110 111 112 113 114 115 116 117 118 119 120 121 122 123 124 125 126\n",
       " 127 128 129 130 131 132 133 134 135 136 137 138 139 140 141 142 143 144\n",
       " 145 146 147 148 149 150 151 152 153 154 155 156 157 158 159 160 161 162\n",
       " 163 164 165 166 167 168 169 170 171 172 173 174 175 176 177 178 179 180\n",
       " 181 182 183 184 185 186 187 188 189 190 191 192 193 194 195 196 197 198\n",
       " 199 200 201 202 203 204 205 206 207 208 209 210 211 212 213 214 215 216\n",
       " 217 218 219 220 221 222 223 224 225 226 227 228 229 230 231 232 233 234\n",
       " 235 236 237 238 239 240 241 242 243 244 245 246 247 248 249 250 251 252\n",
       " 253 254 255 256 257 258 259 260 261 262 263 264 265 266 267 268 269 270\n",
       " 271 272 273 274 275 276 277 278 279 280 281 282 283 284 285 286 287 288\n",
       " 289 290 291 292 293 294 295 296 297 298 299 300 301 302 303 304 305 306\n",
       " 307 308 309 310 311 312 313 314 315 316 317 318 319 320 321 322 323 324\n",
       " 325 326 327 328 329 330 331 332 333 334 335 336 337 338 339 340 341 342\n",
       " 343 344 345 346 347 348 349 350 351 352 353 354 355 356 357 358 359 360\n",
       " 361 362 363 364 365 366 367 368 369 370 371 372 373 374 375 376 377 378\n",
       " 379 380 381 382 383 384 385 386 387 388 389 390 391 392 393 394 395 396\n",
       " 397 398 399 400 401 402 403 404 405 406 407 408 409 410 411 412 413 414\n",
       " 415 416 417 418 419 420 421 422 423 424 425 426 427 428 429 430 431 432\n",
       " 433 434 435 436 437 438 439 440 441 442 443 444 445 446 447 448 449 450\n",
       " 451 452 453 454 455 456 457 458 459 460 461 462 463 464 465 466 467 468\n",
       " 469 470 471 472 473 474 475 476 477 478 479 480 481 482 483 484 485 486\n",
       " 487 488 489 490 491 492 493 494 495 496 497 498 499 500] \n",
       "Transformer for y: None \n",
       "Transformer for exog: None \n",
       "Window size: 500 \n",
       "Weight function included: False \n",
       "Differentiation order: None \n",
       "Exogenous included: False \n",
       "Exogenous variables names: None \n",
       "Training range: [Timestamp('2010-01-12 00:00:00'), Timestamp('2022-05-08 00:00:00')] \n",
       "Training index type: DatetimeIndex \n",
       "Training index frequency: D \n",
       "Regressor parameters: {'alpha': 0.9, 'ccp_alpha': 0, 'criterion': 'squared_error', 'init': None, 'learning_rate': 0.19, 'loss': 'squared_error', 'max_depth': 3, 'max_features': 0.5, 'max_leaf_nodes': None, 'min_impurity_decrease': 1e-06, 'min_samples_leaf': 1, 'min_samples_split': 2, 'min_weight_fraction_leaf': 0, 'n_estimators': 100, 'n_iter_no_change': None, 'random_state': 42, 'subsample': 1, 'tol': 0.0001, 'validation_fraction': 0.1, 'verbose': 0, 'warm_start': True} \n",
       "fit_kwargs: {} \n",
       "Creation date: 2024-08-31 23:26:16 \n",
       "Last fit date: 2024-08-31 23:26:46 \n",
       "Skforecast version: 0.13.0 \n",
       "Python version: 3.12.0 \n",
       "Forecaster id: None "
      ]
     },
     "execution_count": 220,
     "metadata": {},
     "output_type": "execute_result"
    }
   ],
   "source": [
    "forecaster = ForecasterAutoreg(\n",
    "                 regressor = GradientBoostingRegressor(\n",
    "                    loss = 'squared_error', \n",
    "                    learning_rate = 0.19, \n",
    "                    n_estimators = 100, \n",
    "                    subsample = 1, \n",
    "                    criterion = 'squared_error', \n",
    "                    min_samples_split = 2, \n",
    "                    min_samples_leaf = 1, \n",
    "                    min_weight_fraction_leaf = 0, \n",
    "                    max_depth = 3, \n",
    "                    min_impurity_decrease = 0.000001, \n",
    "                    random_state = 42, \n",
    "                    max_features = 0.5, \n",
    "                    verbose = 0, \n",
    "                    max_leaf_nodes = None, \n",
    "                    warm_start = True, \n",
    "                    n_iter_no_change = None,  \n",
    "                    ccp_alpha = 0\n",
    "                     \n",
    "                 ),\n",
    "                 lags = 500\n",
    "             )\n",
    "forecaster.fit(y=data_train[\"rate\"])\n",
    "forecaster"
   ]
  },
  {
   "cell_type": "code",
   "execution_count": 228,
   "id": "4b644516-d5f7-4e37-8390-d6f0549eceb4",
   "metadata": {},
   "outputs": [],
   "source": [
    "predictions = forecaster.predict(steps=len(data) - steps)"
   ]
  },
  {
   "cell_type": "code",
   "execution_count": 229,
   "id": "1480bc27-109c-4cc4-8216-31ee46488d2e",
   "metadata": {},
   "outputs": [
    {
     "data": {
      "image/png": "[encoded data removed]",
      "text/plain": [
       "<Figure size 600x250 with 1 Axes>"
      ]
     },
     "metadata": {},
     "output_type": "display_data"
    }
   ],
   "source": [
    "fig, ax = plt.subplots(figsize=(6, 2.5))\n",
    "data_train[\"rate\"].plot(ax=ax, label=\"train\")\n",
    "data_test[\"rate\"].plot(ax=ax, label=\"test\")\n",
    "predictions.plot(ax=ax, label=\"predictions\")\n",
    "ax.legend();"
   ]
  },
  {
   "cell_type": "code",
   "execution_count": 230,
   "id": "4a4244d8-65fc-49d2-a5b9-01818c2dfc07",
   "metadata": {},
   "outputs": [
    {
     "name": "stdout",
     "output_type": "stream",
     "text": [
      "19.533083581318934\n"
     ]
    }
   ],
   "source": [
    "print(mean_squared_error(data_test[\"rate\"],predictions))"
   ]
  },
  {
   "cell_type": "code",
   "execution_count": 231,
   "id": "acace5c4-30cd-4a9b-aa7e-50ce9c6cc793",
   "metadata": {},
   "outputs": [
    {
     "data": {
      "text/plain": [
       "['BRL_fluctuation_forecaster.sav']"
      ]
     },
     "execution_count": 231,
     "metadata": {},
     "output_type": "execute_result"
    }
   ],
   "source": [
    "joblib.dump(forecaster, \"BRL_fluctuation_forecaster.sav\")"
   ]
  }
 ],
 "metadata": {
  "kernelspec": {
   "display_name": "Python 3 (ipykernel)",
   "language": "python",
   "name": "python3"
  },
  "language_info": {
   "codemirror_mode": {
    "name": "ipython",
    "version": 3
   },
   "file_extension": ".py",
   "mimetype": "text/x-python",
   "name": "python",
   "nbconvert_exporter": "python",
   "pygments_lexer": "ipython3",
   "version": "3.12.0"
  }
 },
 "nbformat": 4,
 "nbformat_minor": 5
}
